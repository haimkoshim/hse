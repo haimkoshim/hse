{
 "cells": [
  {
   "cell_type": "markdown",
   "metadata": {},
   "source": [
    "## Задание 1"
   ]
  },
  {
   "cell_type": "code",
   "execution_count": 83,
   "metadata": {},
   "outputs": [
    {
     "name": "stdout",
     "output_type": "stream",
     "text": [
      "['варкалось хливкие', 'хливкие шорьки', 'шорьки пырялись', 'пырялись по', 'по наве', 'наве и', 'и хрюкотали', 'хрюкотали зелюки', 'зелюки как', 'как мюмзики', 'мюмзики в', 'в мове', 'мове о', 'о бойся', 'бойся бармаглота', 'бармаглота сын', 'сын он', 'он так', 'так свирлеп', 'свирлеп и', 'и дик', 'дик а', 'а в', 'в глyще', 'глyще рымит', 'рымит исполин', 'исполин злопастный', 'злопастный брандашмыг']\n"
     ]
    }
   ],
   "source": [
    "text = 'варкалось хливкие шорьки пырялись по наве и хрюкотали зелюки как мюмзики в мове о бойся бармаглота сын он так свирлеп и дик а в глyще рымит исполин злопастный брандашмыг' \n",
    "text = text.split( ) \n",
    "\n",
    "output = [] \n",
    "\n",
    "i = 0 \n",
    "while i != (len(text)-1): \n",
    "    output.append(text[i] + \" \" + text[i+1]) \n",
    "    i = i + 1 \n",
    "\n",
    "print(output)"
   ]
  },
  {
   "cell_type": "markdown",
   "metadata": {},
   "source": [
    "## Задание 2"
   ]
  },
  {
   "cell_type": "code",
   "execution_count": 126,
   "metadata": {
    "scrolled": false
   },
   "outputs": [
    {
     "name": "stdout",
     "output_type": "stream",
     "text": [
      "/Users/polinabezrukova/Studies/dh/python-dh-hw\n",
      "сказки\n",
      "шредингер.txt\n",
      "котики\n",
      ".DS_Store\n",
      "боль.txt\n",
      "ворон.txt\n",
      "кладь.txt\n",
      "деды.txt\n",
      "ночь.txt\n",
      "6\n",
      "\n",
      "\n",
      "/Users/polinabezrukova/Studies/dh/python-dh-hw/poems/шредингер.txt\n",
      "/Users/polinabezrukova/Studies/dh/python-dh-hw/poems/боль.txt\n",
      "/Users/polinabezrukova/Studies/dh/python-dh-hw/poems/ворон.txt\n",
      "/Users/polinabezrukova/Studies/dh/python-dh-hw/poems/кладь.txt\n",
      "/Users/polinabezrukova/Studies/dh/python-dh-hw/poems/деды.txt\n",
      "/Users/polinabezrukova/Studies/dh/python-dh-hw/poems/ночь.txt\n",
      "/Users/polinabezrukova/Studies/dh/python-dh-hw/poems/сказки/король.txt\n",
      "/Users/polinabezrukova/Studies/dh/python-dh-hw/poems/сказки/крестная.txt\n",
      "/Users/polinabezrukova/Studies/dh/python-dh-hw/poems/сказки/гримм.txt\n",
      "/Users/polinabezrukova/Studies/dh/python-dh-hw/poems/сказки/королевич.txt\n",
      "/Users/polinabezrukova/Studies/dh/python-dh-hw/poems/сказки/яга.txt\n",
      "/Users/polinabezrukova/Studies/dh/python-dh-hw/poems/котики/кот.txt\n",
      "/Users/polinabezrukova/Studies/dh/python-dh-hw/poems/котики/пушок.txt\n",
      "/Users/polinabezrukova/Studies/dh/python-dh-hw/poems/котики/лео.txt\n"
     ]
    }
   ],
   "source": [
    "import os\n",
    "# пункт 2\n",
    "i = 0\n",
    "print(os.getcwd())\n",
    "for file in os.listdir('poems'): # точка = текущая папка\n",
    "    print(file)\n",
    "    if '.txt' in file:\n",
    "        i = i + 1\n",
    "print(i)\n",
    "print(\"\\n\")\n",
    "\n",
    "# пункт 3\n",
    "\n",
    "# os.remove('/Users/polinabezrukova/Studies/dh/python-dh-hw/.DS_Store')\n",
    "for root, dirs, files in os.walk('poems'):\n",
    "    for name in files:\n",
    "        fullname = os.path.join(root, name)\n",
    "        if 'DS' not in fullname:\n",
    "            fullname = ('/Users/polinabezrukova/Studies/dh/python-dh-hw/' + fullname)\n",
    "            print(fullname)\n",
    "            with open(fullname, 'r', encoding='utf-8') as f:\n",
    "                lines = f.readlines()\n",
    "            with open('/Users/polinabezrukova/Studies/dh/python-dh-hw/poems.txt', 'a', encoding='utf-8') as g:\n",
    "                g.write(''.join(lines))\n",
    "            f.close\n",
    "            g.close"
   ]
  },
  {
   "cell_type": "markdown",
   "metadata": {},
   "source": [
    "## Задание 3"
   ]
  },
  {
   "cell_type": "code",
   "execution_count": 112,
   "metadata": {},
   "outputs": [
    {
     "name": "stdout",
     "output_type": "stream",
     "text": [
      "Удивительная кошка  Несчастная кошка порезала лапу-  Сидит, и ни шагу не может ступить. Скорей, чтобы вылечить кошкину лапу Воздушные шарики надо купить!  И сразу столпился народ на дороге- Шумит, и кричит, и на кошку глядит. А кошка отчасти идет по дороге, Отчасти по воздуху плавно летит!\n",
      "Количество символов :  290\n"
     ]
    }
   ],
   "source": [
    "#пункт 1-2\n",
    "text = input()\n",
    "print('Количество символов : ', len(text))"
   ]
  },
  {
   "cell_type": "code",
   "execution_count": 101,
   "metadata": {},
   "outputs": [],
   "source": [
    "#пункт 3\n",
    "text=text.replace('!','')\n",
    "text=text.replace('?','')\n",
    "text=text.replace('.',',')\n",
    "text=text.replace('-','')\n",
    "text=text.replace(',','')"
   ]
  },
  {
   "cell_type": "code",
   "execution_count": 102,
   "metadata": {},
   "outputs": [
    {
     "data": {
      "text/plain": [
       "'Удивительная кошка  Несчастная кошка порезала лапу  Сидит и ни шагу не может ступить Скорей чтобы вылечить кошкину лапу Воздушные шарики надо купить  И сразу столпился народ на дороге Шумит и кричит и на кошку глядит А кошка отчасти идет по дороге Отчасти по воздуху плавно летит'"
      ]
     },
     "execution_count": 102,
     "metadata": {},
     "output_type": "execute_result"
    }
   ],
   "source": [
    "text #пункт 4"
   ]
  },
  {
   "cell_type": "code",
   "execution_count": 128,
   "metadata": {},
   "outputs": [
    {
     "ename": "AttributeError",
     "evalue": "'list' object has no attribute 'lower'",
     "output_type": "error",
     "traceback": [
      "\u001b[0;31m---------------------------------------------------------------------------\u001b[0m",
      "\u001b[0;31mAttributeError\u001b[0m                            Traceback (most recent call last)",
      "\u001b[0;32m<ipython-input-128-36b4312055e0>\u001b[0m in \u001b[0;36m<module>\u001b[0;34m()\u001b[0m\n\u001b[0;32m----> 1\u001b[0;31m \u001b[0mtext\u001b[0m \u001b[0;34m=\u001b[0m \u001b[0mtext\u001b[0m\u001b[0;34m.\u001b[0m\u001b[0mlower\u001b[0m\u001b[0;34m(\u001b[0m\u001b[0;34m)\u001b[0m\u001b[0;34m\u001b[0m\u001b[0m\n\u001b[0m",
      "\u001b[0;31mAttributeError\u001b[0m: 'list' object has no attribute 'lower'"
     ]
    }
   ],
   "source": [
    "#пункт 5\n",
    "text = text.lower()"
   ]
  },
  {
   "cell_type": "code",
   "execution_count": 107,
   "metadata": {},
   "outputs": [
    {
     "name": "stdout",
     "output_type": "stream",
     "text": [
      "удивительная\n",
      "кошка\n",
      "\n",
      "несчастная\n",
      "кошка\n",
      "порезала\n",
      "лапу\n",
      "\n",
      "сидит\n",
      "и\n",
      "ни\n",
      "шагу\n",
      "не\n",
      "может\n",
      "ступить\n",
      "скорей\n",
      "чтобы\n",
      "вылечить\n",
      "кошкину\n",
      "лапу\n",
      "воздушные\n",
      "шарики\n",
      "надо\n",
      "купить\n",
      "\n",
      "и\n",
      "сразу\n",
      "столпился\n",
      "народ\n",
      "на\n",
      "дороге\n",
      "шумит\n",
      "и\n",
      "кричит\n",
      "и\n",
      "на\n",
      "кошку\n",
      "глядит\n",
      "а\n",
      "кошка\n",
      "отчасти\n",
      "идет\n",
      "по\n",
      "дороге\n",
      "отчасти\n",
      "по\n",
      "воздуху\n",
      "плавно\n",
      "летит\n"
     ]
    }
   ],
   "source": [
    "text_2 = text.split(\" \")\n",
    "text_2 = (\"\\n\").join(text_2)\n",
    "print(text_2)"
   ]
  },
  {
   "cell_type": "code",
   "execution_count": 104,
   "metadata": {},
   "outputs": [
    {
     "name": "stdout",
     "output_type": "stream",
     "text": [
      "Длина текста в словах: 46\n"
     ]
    }
   ],
   "source": [
    "#пункт 6\n",
    "text_1 = text.split()\n",
    "print(\"Длина текста в словах:\", len(text_1))"
   ]
  },
  {
   "cell_type": "code",
   "execution_count": 105,
   "metadata": {},
   "outputs": [
    {
     "name": "stdout",
     "output_type": "stream",
     "text": [
      "Количество уникальных слов в тексте: 36\n"
     ]
    }
   ],
   "source": [
    "#пункт 7\n",
    "text_1 = list(set(text_1))\n",
    "print(\"Количество уникальных слов в тексте:\", len(text_1))"
   ]
  },
  {
   "cell_type": "code",
   "execution_count": 106,
   "metadata": {},
   "outputs": [
    {
     "name": "stdout",
     "output_type": "stream",
     "text": [
      "Последние 10 слов ['кошка', 'отчасти', 'идет', 'по', 'дороге', 'отчасти', 'по', 'воздуху', 'плавно', 'летит']\n"
     ]
    }
   ],
   "source": [
    "#пункт 8\n",
    "print(\"Последние 10 слов\", text.split()[-10:])"
   ]
  },
  {
   "cell_type": "code",
   "execution_count": 82,
   "metadata": {},
   "outputs": [
    {
     "name": "stdout",
     "output_type": "stream",
     "text": [
      "\n",
      " \n",
      " несчас\n"
     ]
    }
   ],
   "source": [
    "print(text_2[19:29]) #пункт 10"
   ]
  },
  {
   "cell_type": "code",
   "execution_count": 113,
   "metadata": {},
   "outputs": [
    {
     "name": "stdout",
     "output_type": "stream",
     "text": [
      "['Удивительная кошка', 'кошка Несчастная', 'Несчастная кошка', 'кошка порезала', 'порезала лапу-', 'лапу- Сидит,', 'Сидит, и', 'и ни', 'ни шагу', 'шагу не', 'не может', 'может ступить.', 'ступить. Скорей,', 'Скорей, чтобы', 'чтобы вылечить', 'вылечить кошкину', 'кошкину лапу', 'лапу Воздушные', 'Воздушные шарики', 'шарики надо', 'надо купить!', 'купить! И', 'И сразу', 'сразу столпился', 'столпился народ', 'народ на', 'на дороге-', 'дороге- Шумит,', 'Шумит, и', 'и кричит,', 'кричит, и', 'и на', 'на кошку', 'кошку глядит.', 'глядит. А', 'А кошка', 'кошка отчасти', 'отчасти идет', 'идет по', 'по дороге,', 'дороге, Отчасти', 'Отчасти по', 'по воздуху', 'воздуху плавно', 'плавно летит!']\n"
     ]
    }
   ],
   "source": [
    "#пункт 11\n",
    "output_new = [] \n",
    "text = text.split( )\n",
    "i = 0 \n",
    "while i != (len(text)-1): \n",
    "    output_new.append(text[i] + \" \" + text[i+1]) \n",
    "    i = i + 1 \n",
    "\n",
    "print(output_new)"
   ]
  },
  {
   "cell_type": "code",
   "execution_count": 114,
   "metadata": {},
   "outputs": [
    {
     "data": {
      "text/plain": [
       "{'идет по': 1,\n",
       " 'кошку глядит.': 1,\n",
       " 'Отчасти по': 1,\n",
       " 'Шумит, и': 1,\n",
       " 'Удивительная кошка': 1,\n",
       " 'Несчастная кошка': 1,\n",
       " 'кошка порезала': 1,\n",
       " 'и на': 1,\n",
       " 'кошка отчасти': 1,\n",
       " 'может ступить.': 1,\n",
       " 'шарики надо': 1,\n",
       " 'отчасти идет': 1,\n",
       " 'дороге, Отчасти': 1,\n",
       " 'воздуху плавно': 1,\n",
       " 'на дороге-': 1,\n",
       " 'плавно летит!': 1,\n",
       " 'кричит, и': 1,\n",
       " 'ни шагу': 1,\n",
       " 'по дороге,': 1,\n",
       " 'купить! И': 1,\n",
       " 'кошка Несчастная': 1,\n",
       " 'ступить. Скорей,': 1,\n",
       " 'и кричит,': 1,\n",
       " 'глядит. А': 1,\n",
       " 'порезала лапу-': 1,\n",
       " 'дороге- Шумит,': 1,\n",
       " 'кошкину лапу': 1,\n",
       " 'по воздуху': 1,\n",
       " 'А кошка': 1,\n",
       " 'лапу Воздушные': 1,\n",
       " 'лапу- Сидит,': 1,\n",
       " 'вылечить кошкину': 1,\n",
       " 'Воздушные шарики': 1,\n",
       " 'не может': 1,\n",
       " 'столпился народ': 1,\n",
       " 'чтобы вылечить': 1,\n",
       " 'Сидит, и': 1,\n",
       " 'шагу не': 1,\n",
       " 'И сразу': 1,\n",
       " 'народ на': 1,\n",
       " 'сразу столпился': 1,\n",
       " 'Скорей, чтобы': 1,\n",
       " 'на кошку': 1,\n",
       " 'надо купить!': 1,\n",
       " 'и ни': 1}"
      ]
     },
     "execution_count": 114,
     "metadata": {},
     "output_type": "execute_result"
    }
   ],
   "source": [
    "#пункт 11\n",
    "dict((x, output_new.count(x)) for x in set(output_new))"
   ]
  }
 ],
 "metadata": {
  "kernelspec": {
   "display_name": "Python 3",
   "language": "python",
   "name": "python3"
  },
  "language_info": {
   "codemirror_mode": {
    "name": "ipython",
    "version": 3
   },
   "file_extension": ".py",
   "mimetype": "text/x-python",
   "name": "python",
   "nbconvert_exporter": "python",
   "pygments_lexer": "ipython3",
   "version": "3.6.5"
  }
 },
 "nbformat": 4,
 "nbformat_minor": 2
}
